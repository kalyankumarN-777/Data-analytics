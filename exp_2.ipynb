{
 "cells": [
  {
   "cell_type": "code",
   "execution_count": 2,
   "metadata": {},
   "outputs": [
    {
     "name": "stdout",
     "output_type": "stream",
     "text": [
      "   pokemon_id        name primary_type secondary_type first_appreance  \\\n",
      "0           1   bulbasaur        grass         poison        red/blue   \n",
      "1           2     ivysaur        grass         poison        red/blue   \n",
      "2           3    venusaur        grass         poison        red/blue   \n",
      "3           4  charmander         fire            NaN        red/blue   \n",
      "4           5  charmeleon         fire            NaN        red/blue   \n",
      "\n",
      "  generation category  total_base_stats  hp  attack  defense  special_attack  \\\n",
      "0      gen 1  regular               318  45      49       49              65   \n",
      "1      gen 1  regular               405  60      62       63              80   \n",
      "2      gen 1  regular               525  80      82       83             100   \n",
      "3      gen 1  regular               309  39      52       43              60   \n",
      "4      gen 1  regular               405  58      64       58              80   \n",
      "\n",
      "   special_defense  speed  \n",
      "0               65     45  \n",
      "1               80     60  \n",
      "2              100     80  \n",
      "3               50     65  \n",
      "4               65     80  \n"
     ]
    }
   ],
   "source": [
    "import pandas as pd\n",
    "import numpy as np\n",
    "df = pd.read_csv(\"F:\\\\Codding files\\\\.vscode\\\\python\\\\DA lab\\\\pokemon_dataset.csv\")\n",
    "#print(\"Original DataFrame:\\n\", df)\n",
    "dataframe=df.head()\n",
    "print(dataframe)"
   ]
  },
  {
   "cell_type": "code",
   "execution_count": 10,
   "metadata": {},
   "outputs": [
    {
     "name": "stdout",
     "output_type": "stream",
     "text": [
      "Original DataFrame:\n",
      "      Name  Age    Address Qualification\n",
      "0     Jai   27      Delhi           Msc\n",
      "1  Princi   24     Kanpur            MA\n",
      "2  Gaurav   22  Allahabad           MCA\n",
      "3    Anuj   32    Kannauj           Phd\n",
      "4    Anup   33  Bangalore           MCA\n",
      "5   Vijay   22     Mysore           Phd\n",
      "6    daya   54   kanapura           MCA\n",
      "<pandas.core.groupby.generic.DataFrameGroupBy object at 0x0000014981B70550>\n"
     ]
    }
   ],
   "source": [
    "import pandas as pd\n",
    "import numpy as np\n",
    "data = {  \n",
    "        'Name':['Jai', 'Princi', 'Gaurav', 'Anuj','Anup','Vijay','daya'],\n",
    "        'Age':[27, 24, 22, 32,33,22,54],\n",
    "        'Address':['Delhi', 'Kanpur', 'Allahabad', 'Kannauj','Bangalore','Mysore','kanapura'],\n",
    "        'Qualification':['Msc', 'MA', 'MCA', 'Phd', 'MCA', 'Phd', 'MCA']\n",
    "}\n",
    "df=pd.DataFrame(data)\n",
    "print(\"Original DataFrame:\\n\", df)\n",
    "dataf = df.groupby('Qualification')\n",
    "print(dataf)"
   ]
  }
 ],
 "metadata": {
  "kernelspec": {
   "display_name": "Python 3",
   "language": "python",
   "name": "python3"
  },
  "language_info": {
   "codemirror_mode": {
    "name": "ipython",
    "version": 3
   },
   "file_extension": ".py",
   "mimetype": "text/x-python",
   "name": "python",
   "nbconvert_exporter": "python",
   "pygments_lexer": "ipython3",
   "version": "3.13.1"
  }
 },
 "nbformat": 4,
 "nbformat_minor": 2
}
