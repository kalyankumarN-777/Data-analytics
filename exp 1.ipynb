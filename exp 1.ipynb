{
 "cells": [
  {
   "cell_type": "code",
   "execution_count": 2,
   "metadata": {},
   "outputs": [
    {
     "name": "stdout",
     "output_type": "stream",
     "text": [
      "2\n"
     ]
    }
   ],
   "source": [
    "a=1+1\n",
    "print(a)"
   ]
  },
  {
   "cell_type": "code",
   "execution_count": 6,
   "metadata": {},
   "outputs": [
    {
     "name": "stdout",
     "output_type": "stream",
     "text": [
      "Bugs come in through open Windows.\n"
     ]
    }
   ],
   "source": [
    "import pyjokes\n",
    "a=pyjokes.get_joke()\n",
    "print(a)"
   ]
  },
  {
   "cell_type": "code",
   "execution_count": null,
   "metadata": {},
   "outputs": [
    {
     "name": "stderr",
     "output_type": "stream",
     "text": [
      "<>:3: SyntaxWarning: invalid escape sequence '\\p'\n",
      "<>:3: SyntaxWarning: invalid escape sequence '\\p'\n",
      "C:\\Users\\Kalyan Kumar N\\AppData\\Local\\Temp\\ipykernel_17176\\2140695372.py:3: SyntaxWarning: invalid escape sequence '\\p'\n",
      "  df = pd.read_csv(\"F:\\\\Codding files\\\\.vscode\\python\\\\DA lab\\\\pokemon_dataset.csv\")\n"
     ]
    },
    {
     "name": "stdout",
     "output_type": "stream",
     "text": [
      "Original DataFrame:\n",
      "       pokemon_id          name primary_type secondary_type first_appreance  \\\n",
      "0              1     bulbasaur        grass         poison        red/blue   \n",
      "1              2       ivysaur        grass         poison        red/blue   \n",
      "2              3      venusaur        grass         poison        red/blue   \n",
      "3              4    charmander         fire            NaN        red/blue   \n",
      "4              5    charmeleon         fire            NaN        red/blue   \n",
      "...          ...           ...          ...            ...             ...   \n",
      "1020        1021   raging-bolt     electric         dragon  scarlet/violet   \n",
      "1021        1022  iron-boulder         rock        psychic  scarlet/violet   \n",
      "1022        1023    iron-crown        steel        psychic  scarlet/violet   \n",
      "1023        1024     terapagos       normal            NaN  scarlet/violet   \n",
      "1024        1025     pecharunt       poison          ghost  scarlet/violet   \n",
      "\n",
      "     generation   category  total_base_stats   hp  attack  defense  \\\n",
      "0         gen 1    regular               318   45      49       49   \n",
      "1         gen 1    regular               405   60      62       63   \n",
      "2         gen 1    regular               525   80      82       83   \n",
      "3         gen 1    regular               309   39      52       43   \n",
      "4         gen 1    regular               405   58      64       58   \n",
      "...         ...        ...               ...  ...     ...      ...   \n",
      "1020      gen 9    paradox               590  125      73       91   \n",
      "1021      gen 9    regular               590   90     120       80   \n",
      "1022      gen 9    paradox               590   90      72      100   \n",
      "1023      gen 9  legendary               450   90      65       85   \n",
      "1024      gen 9   mythical               600   88      88      160   \n",
      "\n",
      "      special_attack  special_defense  speed  \n",
      "0                 65               65     45  \n",
      "1                 80               80     60  \n",
      "2                100              100     80  \n",
      "3                 60               50     65  \n",
      "4                 80               65     80  \n",
      "...              ...              ...    ...  \n",
      "1020             137               89     75  \n",
      "1021              68              108    124  \n",
      "1022             122              108     98  \n",
      "1023              65               85     60  \n",
      "1024              88               88     88  \n",
      "\n",
      "[1025 rows x 14 columns]\n",
      "        pokemon_id  total_base_stats           hp       attack      defense  \\\n",
      "count  1025.000000       1025.000000  1025.000000  1025.000000  1025.000000   \n",
      "mean    513.000000        427.686829    70.184390    77.521951    72.507317   \n",
      "std     296.036315        112.770735    26.631054    29.782541    29.286972   \n",
      "min       1.000000        175.000000     1.000000     5.000000     5.000000   \n",
      "25%     257.000000        325.000000    50.000000    55.000000    50.000000   \n",
      "50%     513.000000        450.000000    68.000000    75.000000    70.000000   \n",
      "75%     769.000000        508.000000    85.000000   100.000000    90.000000   \n",
      "max    1025.000000        720.000000   255.000000   181.000000   230.000000   \n",
      "\n",
      "       special_attack  special_defense        speed  \n",
      "count     1025.000000      1025.000000  1025.000000  \n",
      "mean        70.080976        70.205854    67.186341  \n",
      "std         29.658378        26.639329    28.717227  \n",
      "min         10.000000        20.000000     5.000000  \n",
      "25%         47.000000        50.000000    45.000000  \n",
      "50%         65.000000        67.000000    65.000000  \n",
      "75%         90.000000        86.000000    88.000000  \n",
      "max        173.000000       230.000000   200.000000  \n"
     ]
    }
   ],
   "source": [
    "import pandas as pd\n",
    "import numpy as np\n",
    "df = pd.read_csv(\"F:\\\\Codding files\\\\.vscode\\\\python\\\\DA lab\\\\pokemon_dataset.csv\")\n",
    "print(\"Original DataFrame:\\n\", df)\n",
    "dataframe=df.describe()\n",
    "print(dataframe)\n"
   ]
  },
  {
   "cell_type": "code",
   "execution_count": null,
   "metadata": {},
   "outputs": [
    {
     "name": "stdout",
     "output_type": "stream",
     "text": [
      "   pokemon_id        name primary_type secondary_type first_appreance  \\\n",
      "0           1   bulbasaur        grass         poison        red/blue   \n",
      "1           2     ivysaur        grass         poison        red/blue   \n",
      "2           3    venusaur        grass         poison        red/blue   \n",
      "3           4  charmander         fire            NaN        red/blue   \n",
      "4           5  charmeleon         fire            NaN        red/blue   \n",
      "\n",
      "  generation category  total_base_stats  hp  attack  defense  special_attack  \\\n",
      "0      gen 1  regular               318  45      49       49              65   \n",
      "1      gen 1  regular               405  60      62       63              80   \n",
      "2      gen 1  regular               525  80      82       83             100   \n",
      "3      gen 1  regular               309  39      52       43              60   \n",
      "4      gen 1  regular               405  58      64       58              80   \n",
      "\n",
      "   special_defense  speed  \n",
      "0               65     45  \n",
      "1               80     60  \n",
      "2              100     80  \n",
      "3               50     65  \n",
      "4               65     80  \n"
     ]
    },
    {
     "name": "stderr",
     "output_type": "stream",
     "text": [
      "<>:4: SyntaxWarning: invalid escape sequence '\\p'\n",
      "<>:4: SyntaxWarning: invalid escape sequence '\\p'\n",
      "C:\\Users\\Kalyan Kumar N\\AppData\\Local\\Temp\\ipykernel_17176\\3681354187.py:4: SyntaxWarning: invalid escape sequence '\\p'\n",
      "  df = pd.read_csv(\"F:\\\\Codding files\\\\.vscode\\python\\\\DA lab\\\\pokemon_dataset.csv\")\n"
     ]
    }
   ],
   "source": [
    "#19th Question\n",
    "import pandas as pd\n",
    "import numpy as np\n",
    "df = pd.read_csv(\"F:\\\\Codding files\\\\.vscode\\\\python\\\\DA lab\\\\pokemon_dataset.csv\")\n",
    "#print(\"Original DataFrame:\\n\", df)\n",
    "dataframe=df.head()\n",
    "print(dataframe)"
   ]
  },
  {
   "cell_type": "code",
   "execution_count": 4,
   "metadata": {},
   "outputs": [
    {
     "name": "stdout",
     "output_type": "stream",
     "text": [
      "generation:\n",
      "0       gen 1\n",
      "1       gen 1\n",
      "2       gen 1\n",
      "3       gen 1\n",
      "4       gen 1\n",
      "        ...  \n",
      "1020    gen 9\n",
      "1021    gen 9\n",
      "1022    gen 9\n",
      "1023    gen 9\n",
      "1024    gen 9\n",
      "Name: generation, Length: 1025, dtype: object\n"
     ]
    }
   ],
   "source": [
    "#20th Question A part\n",
    "generation_column = df['generation']\n",
    "print(\"generation:\")\n",
    "print(generation_column)"
   ]
  },
  {
   "cell_type": "code",
   "execution_count": 5,
   "metadata": {},
   "outputs": [
    {
     "name": "stdout",
     "output_type": "stream",
     "text": [
      "Rows where 'hp' is greater than 50:\n",
      "      pokemon_id          name primary_type secondary_type first_appreance  \\\n",
      "38            39    jigglypuff       normal          fairy        red/blue   \n",
      "39            40    wigglytuff       normal          fairy        red/blue   \n",
      "88            89           muk       poison            NaN        red/blue   \n",
      "111          112        rhydon       ground           rock        red/blue   \n",
      "112          113       chansey       normal            NaN        red/blue   \n",
      "...          ...           ...          ...            ...             ...   \n",
      "1002        1003       ting-lu         dark         ground  scarlet/violet   \n",
      "1004        1005  roaring-moon       dragon           dark  scarlet/violet   \n",
      "1018        1019     hydrapple        grass         dragon  scarlet/violet   \n",
      "1019        1020  gouging-fire         fire         dragon  scarlet/violet   \n",
      "1020        1021   raging-bolt     electric         dragon  scarlet/violet   \n",
      "\n",
      "     generation   category  total_base_stats   hp  attack  defense  \\\n",
      "38        gen 1    regular               270  115      45       20   \n",
      "39        gen 1    regular               435  140      70       45   \n",
      "88        gen 1    regular               500  105     105       75   \n",
      "111       gen 1    regular               485  105     130      120   \n",
      "112       gen 1    regular               450  250       5        5   \n",
      "...         ...        ...               ...  ...     ...      ...   \n",
      "1002      gen 9  legendary               570  155     110      125   \n",
      "1004      gen 9    paradox               590  105     139       71   \n",
      "1018      gen 9    regular               540  106      80      110   \n",
      "1019      gen 9    paradox               590  105     115      121   \n",
      "1020      gen 9    paradox               590  125      73       91   \n",
      "\n",
      "      special_attack  special_defense  speed  \n",
      "38                45               25     20  \n",
      "39                85               50     45  \n",
      "88                65              100     50  \n",
      "111               45               45     40  \n",
      "112               35              105     50  \n",
      "...              ...              ...    ...  \n",
      "1002              55               80     45  \n",
      "1004              55              101    119  \n",
      "1018             120               80     44  \n",
      "1019              65               93     91  \n",
      "1020             137               89     75  \n",
      "\n",
      "[94 rows x 14 columns]\n"
     ]
    }
   ],
   "source": [
    "#20th Question B part\n",
    "filtered_df = df[df['hp'] > 100]\n",
    "print(\"Rows where 'hp' is greater than 50:\")\n",
    "print(filtered_df)"
   ]
  },
  {
   "cell_type": "code",
   "execution_count": 21,
   "metadata": {},
   "outputs": [
    {
     "name": "stdout",
     "output_type": "stream",
     "text": [
      "      pokemon_id          name primary_type secondary_type first_appreance  \\\n",
      "0              1     bulbasaur        grass         poison        red/blue   \n",
      "1              2       ivysaur        grass         poison        red/blue   \n",
      "2              3      venusaur        grass         poison        red/blue   \n",
      "3              4    charmander         fire            NaN        red/blue   \n",
      "4              5    charmeleon         fire            NaN        red/blue   \n",
      "...          ...           ...          ...            ...             ...   \n",
      "1020        1021   raging-bolt     electric         dragon  scarlet/violet   \n",
      "1021        1022  iron-boulder         rock        psychic  scarlet/violet   \n",
      "1022        1023    iron-crown        steel        psychic  scarlet/violet   \n",
      "1023        1024     terapagos       normal            NaN  scarlet/violet   \n",
      "1024        1025     pecharunt       poison          ghost  scarlet/violet   \n",
      "\n",
      "     generation   category  total_base_stats   hp  attack  defense  \\\n",
      "0         gen 1    regular               318   45      49       49   \n",
      "1         gen 1    regular               405   60      62       63   \n",
      "2         gen 1    regular               525   80      82       83   \n",
      "3         gen 1    regular               309   39      52       43   \n",
      "4         gen 1    regular               405   58      64       58   \n",
      "...         ...        ...               ...  ...     ...      ...   \n",
      "1020      gen 9    paradox               590  125      73       91   \n",
      "1021      gen 9    regular               590   90     120       80   \n",
      "1022      gen 9    paradox               590   90      72      100   \n",
      "1023      gen 9  legendary               450   90      65       85   \n",
      "1024      gen 9   mythical               600   88      88      160   \n",
      "\n",
      "      special_attack  special_defense  speed  \n",
      "0                 65               65     45  \n",
      "1                 80               80     60  \n",
      "2                100              100     80  \n",
      "3                 60               50     65  \n",
      "4                 80               65     80  \n",
      "...              ...              ...    ...  \n",
      "1020             137               89     75  \n",
      "1021              68              108    124  \n",
      "1022             122              108     98  \n",
      "1023              65               85     60  \n",
      "1024              88               88     88  \n",
      "\n",
      "[1025 rows x 14 columns]\n"
     ]
    }
   ],
   "source": [
    "import pandas as pd\n",
    "import numpy as np\n",
    "df = pd.read_csv(\"F:\\\\Codding files\\\\.vscode\\\\python\\\\DA lab\\\\pokemon_dataset.csv\")\n",
    "print(df)\n",
    "data = df.groupby('name')"
   ]
  },
  {
   "cell_type": "code",
   "execution_count": 18,
   "metadata": {},
   "outputs": [
    {
     "name": "stdout",
     "output_type": "stream",
     "text": [
      "\n"
     ]
    }
   ],
   "source": [
    "print(data.ffill('hp'<20))"
   ]
  },
  {
   "cell_type": "code",
   "execution_count": 4,
   "metadata": {},
   "outputs": [
    {
     "name": "stdout",
     "output_type": "stream",
     "text": [
      "      sl   sw   pl   pw     Iris-setosa\n",
      "0    4.9  3.0  1.4  0.2     Iris-setosa\n",
      "1    4.7  3.2  1.3  0.2     Iris-setosa\n",
      "2    4.6  3.1  1.5  0.2     Iris-setosa\n",
      "3    5.0  3.6  1.4  0.2     Iris-setosa\n",
      "4    5.4  3.9  1.7  0.4     Iris-setosa\n",
      "..   ...  ...  ...  ...             ...\n",
      "144  6.7  3.0  5.2  2.3  Iris-virginica\n",
      "145  6.3  2.5  5.0  1.9  Iris-virginica\n",
      "146  6.5  3.0  5.2  2.0  Iris-virginica\n",
      "147  6.2  3.4  5.4  2.3  Iris-virginica\n",
      "148  5.9  3.0  5.1  1.8  Iris-virginica\n",
      "\n",
      "[149 rows x 5 columns] \n",
      "\n",
      "0    3.0\n",
      "Name: sw, dtype: float64 \n",
      "\n",
      "5.8483221476510066 \n",
      "\n",
      "5.8 \n",
      "\n"
     ]
    },
    {
     "data": {
      "image/png": "[encoded data removed]",
      "text/plain": [
       "<Figure size 400x200 with 1 Axes>"
      ]
     },
     "metadata": {},
     "output_type": "display_data"
    },
    {
     "data": {
      "image/png": "[encoded data removed]",
      "text/plain": [
       "<Figure size 600x400 with 1 Axes>"
      ]
     },
     "metadata": {},
     "output_type": "display_data"
    },
    {
     "data": {
      "image/png": "[encoded data removed]",
      "text/plain": [
       "<Figure size 600x400 with 1 Axes>"
      ]
     },
     "metadata": {},
     "output_type": "display_data"
    }
   ],
   "source": [
    "import matplotlib.pyplot as plt\n",
    "import pandas as pd\n",
    "import seaborn as sns\n",
    "df = pd.read_csv(\"F:\\\\Codding files\\\\.vscode\\\\python\\\\Data Analytics\\\\iris.data.csv\")\n",
    "df.fillna({'sl': 2, 'pl': 4, 'sw': 3, 'pw': 1}, inplace=True)\n",
    "m = df['sl'].mean()\n",
    "me = df['sl'].median()\n",
    "mo = df['sw'].mode()\n",
    "print(df, '\\n')\n",
    "print(mo, '\\n')\n",
    "print(m, '\\n')\n",
    "print(me, '\\n')\n",
    "plt.figure(figsize=(4, 2))\n",
    "sns.scatterplot(x='sl', y='sw', data=df)\n",
    "plt.xlabel('sl')\n",
    "plt.ylabel('sw')\n",
    "plt.title('Scatter plot of sl vs sw')\n",
    "plt.show()\n",
    "\n",
    "plt.figure(figsize=(6, 4))\n",
    "sns.barplot(x='sl', y='sw', data=df)\n",
    "plt.xlabel('sl')\n",
    "plt.ylabel('sw')\n",
    "plt.title('Bar graph of sl vs sw')\n",
    "plt.show()\n",
    "\n",
    "plt.figure(figsize=(6, 4))\n",
    "sns.histplot(df['sl'])\n",
    "plt.xlabel('sl')\n",
    "plt.ylabel('Frequency')\n",
    "plt.title('Histogram of sl')\n",
    "plt.show()\n"
   ]
  },
  {
   "cell_type": "code",
   "execution_count": null,
   "metadata": {},
   "outputs": [],
   "source": []
  }
 ],
 "metadata": {
  "kernelspec": {
   "display_name": "Python 3",
   "language": "python",
   "name": "python3"
  },
  "language_info": {
   "codemirror_mode": {
    "name": "ipython",
    "version": 3
   },
   "file_extension": ".py",
   "mimetype": "text/x-python",
   "name": "python",
   "nbconvert_exporter": "python",
   "pygments_lexer": "ipython3",
   "version": "3.13.1"
  }
 },
 "nbformat": 4,
 "nbformat_minor": 2
}
